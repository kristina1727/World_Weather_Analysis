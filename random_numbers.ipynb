{
 "cells": [
  {
   "cell_type": "code",
   "execution_count": 17,
   "id": "18ecfefa",
   "metadata": {},
   "outputs": [],
   "source": [
    "# Import the random module.\n",
    "import random\n",
    "\n"
   ]
  },
  {
   "cell_type": "code",
   "execution_count": 18,
   "id": "e92e3293",
   "metadata": {},
   "outputs": [
    {
     "data": {
      "text/plain": [
       "-63"
      ]
     },
     "execution_count": 18,
     "metadata": {},
     "output_type": "execute_result"
    }
   ],
   "source": [
    "random.randint(-90,90)"
   ]
  },
  {
   "cell_type": "code",
   "execution_count": 19,
   "id": "d505d974",
   "metadata": {},
   "outputs": [
    {
     "data": {
      "text/plain": [
       "0.2693546945563954"
      ]
     },
     "execution_count": 19,
     "metadata": {},
     "output_type": "execute_result"
    }
   ],
   "source": [
    "random.random()"
   ]
  },
  {
   "cell_type": "code",
   "execution_count": 20,
   "id": "ea9e3816",
   "metadata": {},
   "outputs": [
    {
     "data": {
      "text/plain": [
       "72.56982163357047"
      ]
     },
     "execution_count": 20,
     "metadata": {},
     "output_type": "execute_result"
    }
   ],
   "source": [
    "random_number = random.randint(-90,89)+random.random()\n",
    "random_number"
   ]
  },
  {
   "cell_type": "code",
   "execution_count": 21,
   "id": "6b484248",
   "metadata": {},
   "outputs": [
    {
     "data": {
      "text/plain": [
       "[88.36875355748936,\n",
       " -85.26151323939109,\n",
       " -28.481660665476173,\n",
       " -28.62992236665417,\n",
       " -20.6113352676077,\n",
       " 32.868440789808645,\n",
       " -4.742555030473514,\n",
       " 59.88759896924498,\n",
       " -7.363260821423476,\n",
       " -43.15443539179184]"
      ]
     },
     "execution_count": 21,
     "metadata": {},
     "output_type": "execute_result"
    }
   ],
   "source": [
    "# Get random latitudes\n",
    "x = 1\n",
    "latitudes  =[]\n",
    "while x < 11:\n",
    "    random_lat = random.randint(-90,89) + random.random()\n",
    "    latitudes.append(random_lat)\n",
    "    x+=1\n",
    "latitudes"
   ]
  },
  {
   "cell_type": "code",
   "execution_count": 22,
   "id": "f9f9b573",
   "metadata": {},
   "outputs": [
    {
     "data": {
      "text/plain": [
       "[91.07968121380485,\n",
       " -83.0742306026461,\n",
       " -145.52623873038542,\n",
       " -130.29036509559202,\n",
       " -34.63444329967255,\n",
       " -175.87342120103213,\n",
       " -123.18642549453102,\n",
       " -64.04414485126992,\n",
       " -11.697623298028951,\n",
       " 175.2603900063246]"
      ]
     },
     "execution_count": 22,
     "metadata": {},
     "output_type": "execute_result"
    }
   ],
   "source": [
    "# Get random longitutes\n",
    "y = 1\n",
    "longitudes =[]\n",
    "while y < 11:\n",
    "    random_long = random.randint(-180,180)+random.random()\n",
    "    longitudes.append(random_long)\n",
    "    y+=1\n",
    "longitudes"
   ]
  },
  {
   "cell_type": "code",
   "execution_count": 23,
   "id": "9c6ecbdc",
   "metadata": {},
   "outputs": [
    {
     "data": {
      "text/plain": [
       "-70"
      ]
     },
     "execution_count": 23,
     "metadata": {},
     "output_type": "execute_result"
    }
   ],
   "source": [
    "random.randrange(-90, 90, step=1)"
   ]
  },
  {
   "cell_type": "code",
   "execution_count": 24,
   "id": "c211f3d7",
   "metadata": {},
   "outputs": [
    {
     "data": {
      "text/plain": [
       "-27"
      ]
     },
     "execution_count": 24,
     "metadata": {},
     "output_type": "execute_result"
    }
   ],
   "source": [
    "random.randrange(-90,90, step =3)"
   ]
  },
  {
   "cell_type": "code",
   "execution_count": 29,
   "id": "47f31fd9",
   "metadata": {},
   "outputs": [],
   "source": [
    "#Import the Numpy module\n",
    "import numpy as np"
   ]
  },
  {
   "cell_type": "code",
   "execution_count": 30,
   "id": "b43e527c",
   "metadata": {},
   "outputs": [
    {
     "data": {
      "text/plain": [
       "79.9807534738618"
      ]
     },
     "execution_count": 30,
     "metadata": {},
     "output_type": "execute_result"
    }
   ],
   "source": [
    "random.uniform(-90, 90)"
   ]
  },
  {
   "cell_type": "code",
   "execution_count": 31,
   "id": "08afd9e8",
   "metadata": {},
   "outputs": [
    {
     "data": {
      "text/plain": [
       "-2.4276512178372514"
      ]
     },
     "execution_count": 31,
     "metadata": {},
     "output_type": "execute_result"
    }
   ],
   "source": [
    "#Generate a floating-point decimal\n",
    "np.random.uniform(-90.000, 90.000)"
   ]
  },
  {
   "cell_type": "code",
   "execution_count": 32,
   "id": "d4668b87",
   "metadata": {},
   "outputs": [
    {
     "data": {
      "text/plain": [
       "-83.38657565525746"
      ]
     },
     "execution_count": 32,
     "metadata": {},
     "output_type": "execute_result"
    }
   ],
   "source": [
    "np.random.uniform (low=-90, high=90)"
   ]
  },
  {
   "cell_type": "code",
   "execution_count": 33,
   "id": "1316ea3c",
   "metadata": {},
   "outputs": [
    {
     "data": {
      "text/plain": [
       "array([-58.09088339, -73.49596877, -27.35280801,  39.20816622,\n",
       "       -88.28395281,  84.0735536 , -79.56604869, -61.45496893,\n",
       "       -57.63112784,  21.05265681,  11.99162162, -19.03095191,\n",
       "         7.22635201, -82.70569884,  62.28288343,  59.86428384,\n",
       "       -53.32786153, -15.24465014,  86.4234053 ,  39.41326983,\n",
       "        30.85000923,   2.37213405, -48.85227585, -30.33960984,\n",
       "       -72.16005206,   1.77675682,  46.47832439,  74.89640519,\n",
       "        13.33810995,  21.25711846,  69.15857465,  -6.86375068,\n",
       "       -12.06906886,  18.06667767, -43.23841627, -17.15317657,\n",
       "        64.0635571 , -57.93504586, -52.2263392 ,  16.6720752 ,\n",
       "       -62.15679204, -28.72727306,  16.75948949, -74.9802059 ,\n",
       "       -87.54635276,   1.85663564, -85.63216459,  40.18200506,\n",
       "        71.49012906,  48.22682783])"
      ]
     },
     "execution_count": 33,
     "metadata": {},
     "output_type": "execute_result"
    }
   ],
   "source": [
    "np.random.uniform(-90.000, 90.000, size = 50)"
   ]
  },
  {
   "cell_type": "code",
   "execution_count": 34,
   "id": "84be2692",
   "metadata": {},
   "outputs": [],
   "source": [
    "# Import timeit\n",
    "import timeit"
   ]
  },
  {
   "cell_type": "code",
   "execution_count": 39,
   "id": "a5fe644b",
   "metadata": {},
   "outputs": [
    {
     "name": "stdout",
     "output_type": "stream",
     "text": [
      "16.9 µs ± 684 ns per loop (mean ± std. dev. of 7 runs, 100000 loops each)\n"
     ]
    }
   ],
   "source": [
    "%timeit np.random.uniform(-90.000,90.000, size = 1500)"
   ]
  },
  {
   "cell_type": "code",
   "execution_count": 40,
   "id": "41675afb",
   "metadata": {},
   "outputs": [
    {
     "name": "stdout",
     "output_type": "stream",
     "text": [
      "2.62 ms ± 39.8 µs per loop (mean ± std. dev. of 7 runs, 100 loops each)\n"
     ]
    }
   ],
   "source": [
    "def latitudes(size):\n",
    "    latitueds = []\n",
    "    x = 0\n",
    "    while x < (size):\n",
    "        random_lat = random.randint(-90,90)+random.random()\n",
    "        latitueds.append (random_lat)\n",
    "        x+=1\n",
    "    return latitueds\n",
    "\n",
    "# Call the function with 1500\n",
    "%timeit latitudes (1500)"
   ]
  },
  {
   "cell_type": "code",
   "execution_count": 44,
   "id": "3506cae9",
   "metadata": {},
   "outputs": [],
   "source": [
    "#Refactor the code for the while loop with the %timeit magic command and write a for loop that will generate the 1,500 latitudes\n",
    "# def latitudes(size):\n",
    "#     latitueds = []\n",
    "#     x = 0\n",
    "#     while x < (size):\n",
    "#         random_lat = %timeit np.random.uniform(-90.000,90.000,size = 1500)\n",
    "#         latitueds.append (random_lat)\n",
    "#         x+=1\n",
    "#     return latitueds"
   ]
  },
  {
   "cell_type": "code",
   "execution_count": null,
   "id": "17860ec3",
   "metadata": {},
   "outputs": [],
   "source": []
  }
 ],
 "metadata": {
  "kernelspec": {
   "display_name": "PythonData",
   "language": "python",
   "name": "pythondata"
  },
  "language_info": {
   "codemirror_mode": {
    "name": "ipython",
    "version": 3
   },
   "file_extension": ".py",
   "mimetype": "text/x-python",
   "name": "python",
   "nbconvert_exporter": "python",
   "pygments_lexer": "ipython3",
   "version": "3.7.10"
  }
 },
 "nbformat": 4,
 "nbformat_minor": 5
}
